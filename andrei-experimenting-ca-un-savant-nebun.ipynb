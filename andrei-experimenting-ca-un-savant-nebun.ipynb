{
 "cells": [
  {
   "cell_type": "code",
   "execution_count": 2,
   "metadata": {
    "collapsed": true
   },
   "outputs": [],
   "source": [
    "import h5py\n",
    "import json\n",
    "import pandas as pd\n",
    "import numpy as np\n",
    "import torch\n",
    "import os\n",
    "import pickle\n",
    "import ast\n",
    "from data.dataset import VQADataset\n",
    "import linecache\n",
    "import random\n",
    "from datetime import datetime"
   ]
  },
  {
   "cell_type": "code",
   "execution_count": 5,
   "metadata": {},
   "outputs": [
    {
     "name": "stdout",
     "output_type": "stream",
     "text": [
      "595 ms ± 13.5 ms per loop (mean ± std. dev. of 7 runs, 1 loop each)\n",
      "76.8 ms ± 685 µs per loop (mean ± std. dev. of 7 runs, 10 loops each)\n",
      "22.9 ms ± 584 µs per loop (mean ± std. dev. of 7 runs, 10 loops each)\n",
      "2 ms ± 15.7 µs per loop (mean ± std. dev. of 7 runs, 100 loops each)\n"
     ]
    }
   ],
   "source": [
    "% timeit pd.read_pickle('./data/processed/train_dataset.gzip')\n",
    "% timeit pd.read_pickle('./data/processed/val_dataset.gzip')\n",
    "% timeit pd.read_pickle('./data/processed/test_dataset.gzip')\n",
    "% timeit pd.read_pickle('./data/processed/dummy_dataset.gzip')"
   ]
  },
  {
   "cell_type": "code",
   "execution_count": 8,
   "metadata": {},
   "outputs": [
    {
     "name": "stdout",
     "output_type": "stream",
     "text": [
      "<class 'numpy.ndarray'>\n"
     ]
    },
    {
     "data": {
      "text/html": [
       "<div>\n",
       "<style scoped>\n",
       "    .dataframe tbody tr th:only-of-type {\n",
       "        vertical-align: middle;\n",
       "    }\n",
       "\n",
       "    .dataframe tbody tr th {\n",
       "        vertical-align: top;\n",
       "    }\n",
       "\n",
       "    .dataframe thead th {\n",
       "        text-align: right;\n",
       "    }\n",
       "</style>\n",
       "<table border=\"1\" class=\"dataframe\">\n",
       "  <thead>\n",
       "    <tr style=\"text-align: right;\">\n",
       "      <th></th>\n",
       "      <th>question_id</th>\n",
       "      <th>image_id</th>\n",
       "      <th>question</th>\n",
       "      <th>answer</th>\n",
       "      <th>visual_features</th>\n",
       "    </tr>\n",
       "  </thead>\n",
       "  <tbody>\n",
       "    <tr>\n",
       "      <th>0</th>\n",
       "      <td>228478002</td>\n",
       "      <td>228478</td>\n",
       "      <td>What English meal is this likely for ?</td>\n",
       "      <td>brunch</td>\n",
       "      <td>[0.21652411, 0.4433445, 1.0575547, 0.351903, 0...</td>\n",
       "    </tr>\n",
       "    <tr>\n",
       "      <th>1</th>\n",
       "      <td>111756005</td>\n",
       "      <td>111756</td>\n",
       "      <td>What color is his uniform ?</td>\n",
       "      <td>blue</td>\n",
       "      <td>[0.88861424, 1.5218604, 0.41224426, 1.0292011,...</td>\n",
       "    </tr>\n",
       "    <tr>\n",
       "      <th>2</th>\n",
       "      <td>376241080</td>\n",
       "      <td>376241</td>\n",
       "      <td>Which girl is wearing glasses ?</td>\n",
       "      <td>right</td>\n",
       "      <td>[0.15327102, 0.80850273, 0.49285752, 0.1413253...</td>\n",
       "    </tr>\n",
       "    <tr>\n",
       "      <th>3</th>\n",
       "      <td>434045001</td>\n",
       "      <td>434045</td>\n",
       "      <td>What is the person doing ?</td>\n",
       "      <td>sunbathing</td>\n",
       "      <td>[3.634467, 0.121703975, 0.9868309, 0.114410535...</td>\n",
       "    </tr>\n",
       "    <tr>\n",
       "      <th>4</th>\n",
       "      <td>167330014</td>\n",
       "      <td>167330</td>\n",
       "      <td>How does the weather appear in this photo ?</td>\n",
       "      <td>sunny</td>\n",
       "      <td>[1.5159967, 0.5695442, 0.51491714, 0.49372593,...</td>\n",
       "    </tr>\n",
       "  </tbody>\n",
       "</table>\n",
       "</div>"
      ],
      "text/plain": [
       "   question_id  image_id                                     question  \\\n",
       "0    228478002    228478       What English meal is this likely for ?   \n",
       "1    111756005    111756                  What color is his uniform ?   \n",
       "2    376241080    376241              Which girl is wearing glasses ?   \n",
       "3    434045001    434045                   What is the person doing ?   \n",
       "4    167330014    167330  How does the weather appear in this photo ?   \n",
       "\n",
       "       answer                                    visual_features  \n",
       "0      brunch  [0.21652411, 0.4433445, 1.0575547, 0.351903, 0...  \n",
       "1        blue  [0.88861424, 1.5218604, 0.41224426, 1.0292011,...  \n",
       "2       right  [0.15327102, 0.80850273, 0.49285752, 0.1413253...  \n",
       "3  sunbathing  [3.634467, 0.121703975, 0.9868309, 0.114410535...  \n",
       "4       sunny  [1.5159967, 0.5695442, 0.51491714, 0.49372593,...  "
      ]
     },
     "execution_count": 8,
     "metadata": {},
     "output_type": "execute_result"
    }
   ],
   "source": [
    "df = pd.read_pickle('./data/processed/train_dataset.gzip')\n",
    "print(type(df.loc[0, 'visual_features']))\n",
    "df.head()"
   ]
  },
  {
   "cell_type": "code",
   "execution_count": 31,
   "metadata": {},
   "outputs": [
    {
     "data": {
      "text/plain": [
       "128"
      ]
     },
     "execution_count": 31,
     "metadata": {},
     "output_type": "execute_result"
    }
   ],
   "source": [
    "df = pd.read_pickle('./data/processed/dummy_dataset.gzip')\n",
    "len([len(answer.split()) for answer in df['answer']]) # only have one-word answers. Good."
   ]
  },
  {
   "cell_type": "code",
   "execution_count": 33,
   "metadata": {},
   "outputs": [
    {
     "name": "stdout",
     "output_type": "stream",
     "text": [
      "[12, 25, 74, 441, 10, 79, 16, 162, 19, 56, 29, 183, 70, 1, 1, 629, 93, 1, 1, 1, 38, 102, 106, 240, 1, 1, 314, 2, 1, 2, 1, 264, 315, 15, 12, 265, 1, 2, 1, 64, 163, 12, 16, 1, 2, 1, 796, 13, 240, 56, 36, 3, 22, 524, 16, 1, 5, 94, 1, 1, 1, 1, 3, 210, 22, 17, 36, 1, 37, 58, 195, 224, 1, 283, 136, 5, 1, 5, 110, 357, 1, 1, 3, 49, 15, 224, 10, 630, 442, 266, 6, 15, 316, 77, 79, 2, 107, 1, 10, 1, 93, 2, 1, 184, 3, 8, 32, 11, 10, 39, 2, 1, 1, 1, 443, 1, 1, 1, 24, 3, 10, 525, 2, 38, 11, 1, 5, 185]\n"
     ]
    }
   ],
   "source": [
    "with open('./data/processed/label2idx.pkl', 'rb') as f:\n",
    "    labels2idx = pickle.load(f)\n",
    "print([labels2idx.get(answer, \"NASOOOL\") for answer in df['answer']])"
   ]
  },
  {
   "cell_type": "code",
   "execution_count": 36,
   "metadata": {},
   "outputs": [
    {
     "name": "stdout",
     "output_type": "stream",
     "text": [
      "[12, 25, 74, 441, 10, 79, 16, 162, 19, 56, 29, 183, 70, 1, 1, 629, 93, 1, 1, 1, 38, 102, 106, 240, 1, 1, 314, 2, 1, 2, 1, 264, 315, 15, 12, 265, 1, 2, 1, 64, 163, 12, 16, 1, 2, 1, 796, 13, 240, 56, 36, 3, 22, 524, 16, 1, 5, 94, 1, 1, 1, 1, 3, 210, 22, 17, 36, 1, 37, 58, 195, 224, 1, 283, 136, 5, 1, 5, 110, 357, 1, 1, 3, 49, 15, 224, 10, 630, 442, 266, 6, 15, 316, 77, 79, 2, 107, 1, 10, 1, 93, 2, 1, 184, 3, 8, 32, 11, 10, 39, 2, 1, 1, 1, 443, 1, 1, 1, 24, 3, 10, 525, 2, 38, 11, 1, 5, 185]\n"
     ]
    }
   ],
   "source": [
    "df = pd.read_pickle('./data/processed/dummy_dataset.gzip')\n",
    "print([labels2idx.get(answer, \"NASOOOL\") for answer in df['answer']])"
   ]
  },
  {
   "cell_type": "code",
   "execution_count": 3,
   "metadata": {},
   "outputs": [
    {
     "name": "stdout",
     "output_type": "stream",
     "text": [
      "VQADataset initialised in 0:00:00.095646\n"
     ]
    }
   ],
   "source": [
    "dataset = VQADataset(\"val\", True, 20)"
   ]
  },
  {
   "cell_type": "code",
   "execution_count": 5,
   "metadata": {},
   "outputs": [
    {
     "name": "stdout",
     "output_type": "stream",
     "text": [
      "<bos> what is standing on the computer <eos> cat\n",
      "<bos> what are the animals standing on <eos> sand\n",
      "<bos> is the sky cloudy <eos> yes\n",
      "<bos> are two men in the background on the left wearing hawaiian shirts <eos> yes\n",
      "<bos> where is the person located <eos> mountain\n",
      "<bos> is it a sunny day <eos> yes\n",
      "<bos> how many zebras <eos> 4\n",
      "<bos> is this a dining car <eos> yes\n",
      "<bos> what is the man in the white shirt riding <eos> skateboard\n",
      "<bos> how many neckties are on display <eos> 3\n"
     ]
    }
   ],
   "source": [
    "for idx in range(10):\n",
    "    question, vl_feat, answer = dataset[idx]\n",
    "    print(dataset.convert_question_to_string(question), dataset.convert_answer_to_string(answer))"
   ]
  },
  {
   "cell_type": "code",
   "execution_count": 6,
   "metadata": {},
   "outputs": [
    {
     "data": {
      "text/plain": [
       "6392"
      ]
     },
     "execution_count": 6,
     "metadata": {},
     "output_type": "execute_result"
    }
   ],
   "source": [
    "len(dataset)"
   ]
  }
 ],
 "metadata": {
  "kernelspec": {
   "display_name": "Python 2",
   "language": "python",
   "name": "python2"
  },
  "language_info": {
   "codemirror_mode": {
    "name": "ipython",
    "version": 3
   },
   "file_extension": ".py",
   "mimetype": "text/x-python",
   "name": "python",
   "nbconvert_exporter": "python",
   "pygments_lexer": "ipython3",
   "version": "3.7.0"
  }
 },
 "nbformat": 4,
 "nbformat_minor": 2
}
